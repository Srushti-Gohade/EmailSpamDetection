{
  "cells": [
    {
      "cell_type": "code",
      "execution_count": null,
      "metadata": {
        "id": "d29c17f4"
      },
      "outputs": [],
      "source": [
        "import numpy as np # linear algebra\n",
        "import pandas as pd # data processing"
      ],
      "id": "d29c17f4"
    },
    {
      "cell_type": "code",
      "execution_count": null,
      "metadata": {
        "colab": {
          "background_save": true,
          "base_uri": "https://localhost:8080/",
          "height": 73,
          "resources": {
            "http://localhost:8080/nbextensions/google.colab/files.js": {
              "data": "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",
              "headers": [
                [
                  "content-type",
                  "application/javascript"
                ]
              ],
              "ok": true,
              "status": 200,
              "status_text": ""
            }
          }
        },
        "id": "wz-tGau8FO1a",
        "outputId": "f5a56181-e4cb-4b86-8ea9-44291838a549"
      },
      "outputs": [
        {
          "data": {
            "text/html": [
              "\n",
              "     <input type=\"file\" id=\"files-e48c6256-3f51-47a7-8d90-e888f6aa4062\" name=\"files[]\" multiple disabled\n",
              "        style=\"border:none\" />\n",
              "     <output id=\"result-e48c6256-3f51-47a7-8d90-e888f6aa4062\">\n",
              "      Upload widget is only available when the cell has been executed in the\n",
              "      current browser session. Please rerun this cell to enable.\n",
              "      </output>\n",
              "      <script src=\"/nbextensions/google.colab/files.js\"></script> "
            ],
            "text/plain": [
              "<IPython.core.display.HTML object>"
            ]
          },
          "metadata": {},
          "output_type": "display_data"
        }
      ],
      "source": [
        "from google.colab import files\n",
        "uploaded = files.upload()"
      ],
      "id": "wz-tGau8FO1a"
    },
    {
      "cell_type": "code",
      "execution_count": null,
      "metadata": {
        "colab": {
          "base_uri": "https://localhost:8080/",
          "height": 206
        },
        "id": "5cbb4289",
        "outputId": "5a35420d-9808-43e9-ddf6-6ef894de1db9"
      },
      "outputs": [
        {
          "data": {
            "text/html": [
              "\n",
              "  <div id=\"df-3e1dac1c-580d-498f-a218-b3cf6dab13bb\">\n",
              "    <div class=\"colab-df-container\">\n",
              "      <div>\n",
              "<style scoped>\n",
              "    .dataframe tbody tr th:only-of-type {\n",
              "        vertical-align: middle;\n",
              "    }\n",
              "\n",
              "    .dataframe tbody tr th {\n",
              "        vertical-align: top;\n",
              "    }\n",
              "\n",
              "    .dataframe thead th {\n",
              "        text-align: right;\n",
              "    }\n",
              "</style>\n",
              "<table border=\"1\" class=\"dataframe\">\n",
              "  <thead>\n",
              "    <tr style=\"text-align: right;\">\n",
              "      <th></th>\n",
              "      <th>Unnamed: 0</th>\n",
              "      <th>label</th>\n",
              "      <th>text</th>\n",
              "      <th>label_num</th>\n",
              "    </tr>\n",
              "  </thead>\n",
              "  <tbody>\n",
              "    <tr>\n",
              "      <th>0</th>\n",
              "      <td>605</td>\n",
              "      <td>ham</td>\n",
              "      <td>Subject: enron methanol ; meter # : 988291\\r\\n...</td>\n",
              "      <td>0</td>\n",
              "    </tr>\n",
              "    <tr>\n",
              "      <th>1</th>\n",
              "      <td>2349</td>\n",
              "      <td>ham</td>\n",
              "      <td>Subject: hpl nom for january 9 , 2001\\r\\n( see...</td>\n",
              "      <td>0</td>\n",
              "    </tr>\n",
              "    <tr>\n",
              "      <th>2</th>\n",
              "      <td>3624</td>\n",
              "      <td>ham</td>\n",
              "      <td>Subject: neon retreat\\r\\nho ho ho , we ' re ar...</td>\n",
              "      <td>0</td>\n",
              "    </tr>\n",
              "    <tr>\n",
              "      <th>3</th>\n",
              "      <td>4685</td>\n",
              "      <td>spam</td>\n",
              "      <td>Subject: photoshop , windows , office . cheap ...</td>\n",
              "      <td>1</td>\n",
              "    </tr>\n",
              "    <tr>\n",
              "      <th>4</th>\n",
              "      <td>2030</td>\n",
              "      <td>ham</td>\n",
              "      <td>Subject: re : indian springs\\r\\nthis deal is t...</td>\n",
              "      <td>0</td>\n",
              "    </tr>\n",
              "  </tbody>\n",
              "</table>\n",
              "</div>\n",
              "      <button class=\"colab-df-convert\" onclick=\"convertToInteractive('df-3e1dac1c-580d-498f-a218-b3cf6dab13bb')\"\n",
              "              title=\"Convert this dataframe to an interactive table.\"\n",
              "              style=\"display:none;\">\n",
              "        \n",
              "  <svg xmlns=\"http://www.w3.org/2000/svg\" height=\"24px\"viewBox=\"0 0 24 24\"\n",
              "       width=\"24px\">\n",
              "    <path d=\"M0 0h24v24H0V0z\" fill=\"none\"/>\n",
              "    <path d=\"M18.56 5.44l.94 2.06.94-2.06 2.06-.94-2.06-.94-.94-2.06-.94 2.06-2.06.94zm-11 1L8.5 8.5l.94-2.06 2.06-.94-2.06-.94L8.5 2.5l-.94 2.06-2.06.94zm10 10l.94 2.06.94-2.06 2.06-.94-2.06-.94-.94-2.06-.94 2.06-2.06.94z\"/><path d=\"M17.41 7.96l-1.37-1.37c-.4-.4-.92-.59-1.43-.59-.52 0-1.04.2-1.43.59L10.3 9.45l-7.72 7.72c-.78.78-.78 2.05 0 2.83L4 21.41c.39.39.9.59 1.41.59.51 0 1.02-.2 1.41-.59l7.78-7.78 2.81-2.81c.8-.78.8-2.07 0-2.86zM5.41 20L4 18.59l7.72-7.72 1.47 1.35L5.41 20z\"/>\n",
              "  </svg>\n",
              "      </button>\n",
              "      \n",
              "  <style>\n",
              "    .colab-df-container {\n",
              "      display:flex;\n",
              "      flex-wrap:wrap;\n",
              "      gap: 12px;\n",
              "    }\n",
              "\n",
              "    .colab-df-convert {\n",
              "      background-color: #E8F0FE;\n",
              "      border: none;\n",
              "      border-radius: 50%;\n",
              "      cursor: pointer;\n",
              "      display: none;\n",
              "      fill: #1967D2;\n",
              "      height: 32px;\n",
              "      padding: 0 0 0 0;\n",
              "      width: 32px;\n",
              "    }\n",
              "\n",
              "    .colab-df-convert:hover {\n",
              "      background-color: #E2EBFA;\n",
              "      box-shadow: 0px 1px 2px rgba(60, 64, 67, 0.3), 0px 1px 3px 1px rgba(60, 64, 67, 0.15);\n",
              "      fill: #174EA6;\n",
              "    }\n",
              "\n",
              "    [theme=dark] .colab-df-convert {\n",
              "      background-color: #3B4455;\n",
              "      fill: #D2E3FC;\n",
              "    }\n",
              "\n",
              "    [theme=dark] .colab-df-convert:hover {\n",
              "      background-color: #434B5C;\n",
              "      box-shadow: 0px 1px 3px 1px rgba(0, 0, 0, 0.15);\n",
              "      filter: drop-shadow(0px 1px 2px rgba(0, 0, 0, 0.3));\n",
              "      fill: #FFFFFF;\n",
              "    }\n",
              "  </style>\n",
              "\n",
              "      <script>\n",
              "        const buttonEl =\n",
              "          document.querySelector('#df-3e1dac1c-580d-498f-a218-b3cf6dab13bb button.colab-df-convert');\n",
              "        buttonEl.style.display =\n",
              "          google.colab.kernel.accessAllowed ? 'block' : 'none';\n",
              "\n",
              "        async function convertToInteractive(key) {\n",
              "          const element = document.querySelector('#df-3e1dac1c-580d-498f-a218-b3cf6dab13bb');\n",
              "          const dataTable =\n",
              "            await google.colab.kernel.invokeFunction('convertToInteractive',\n",
              "                                                     [key], {});\n",
              "          if (!dataTable) return;\n",
              "\n",
              "          const docLinkHtml = 'Like what you see? Visit the ' +\n",
              "            '<a target=\"_blank\" href=https://colab.research.google.com/notebooks/data_table.ipynb>data table notebook</a>'\n",
              "            + ' to learn more about interactive tables.';\n",
              "          element.innerHTML = '';\n",
              "          dataTable['output_type'] = 'display_data';\n",
              "          await google.colab.output.renderOutput(dataTable, element);\n",
              "          const docLink = document.createElement('div');\n",
              "          docLink.innerHTML = docLinkHtml;\n",
              "          element.appendChild(docLink);\n",
              "        }\n",
              "      </script>\n",
              "    </div>\n",
              "  </div>\n",
              "  "
            ],
            "text/plain": [
              "   Unnamed: 0 label                                               text  \\\n",
              "0         605   ham  Subject: enron methanol ; meter # : 988291\\r\\n...   \n",
              "1        2349   ham  Subject: hpl nom for january 9 , 2001\\r\\n( see...   \n",
              "2        3624   ham  Subject: neon retreat\\r\\nho ho ho , we ' re ar...   \n",
              "3        4685  spam  Subject: photoshop , windows , office . cheap ...   \n",
              "4        2030   ham  Subject: re : indian springs\\r\\nthis deal is t...   \n",
              "\n",
              "   label_num  \n",
              "0          0  \n",
              "1          0  \n",
              "2          0  \n",
              "3          1  \n",
              "4          0  "
            ]
          },
          "execution_count": 3,
          "metadata": {},
          "output_type": "execute_result"
        }
      ],
      "source": [
        "df=pd.read_csv('spam_ham_dataset.csv')\n",
        "df. head()"
      ],
      "id": "5cbb4289"
    },
    {
      "cell_type": "code",
      "execution_count": null,
      "metadata": {
        "id": "22bf4ec9"
      },
      "outputs": [],
      "source": [
        "df.shape"
      ],
      "id": "22bf4ec9"
    },
    {
      "cell_type": "code",
      "execution_count": null,
      "metadata": {
        "colab": {
          "base_uri": "https://localhost:8080/"
        },
        "id": "53667cac",
        "outputId": "4d608467-6149-4fc4-f0e7-c519fbac294d"
      },
      "outputs": [
        {
          "data": {
            "text/plain": [
              "Unnamed: 0    0\n",
              "label         0\n",
              "text          0\n",
              "label_num     0\n",
              "dtype: int64"
            ]
          },
          "execution_count": 5,
          "metadata": {},
          "output_type": "execute_result"
        }
      ],
      "source": [
        "df.isnull().sum()"
      ],
      "id": "53667cac"
    },
    {
      "cell_type": "code",
      "execution_count": null,
      "metadata": {
        "colab": {
          "base_uri": "https://localhost:8080/"
        },
        "id": "0918d58c",
        "outputId": "653e00c9-5c3b-475c-ce80-67401bfa6c45"
      },
      "outputs": [
        {
          "data": {
            "text/plain": [
              "ham     3672\n",
              "spam    1499\n",
              "Name: label, dtype: int64"
            ]
          },
          "execution_count": 6,
          "metadata": {},
          "output_type": "execute_result"
        }
      ],
      "source": [
        "df['label'].value_counts()"
      ],
      "id": "0918d58c"
    },
    {
      "cell_type": "code",
      "execution_count": null,
      "metadata": {
        "colab": {
          "base_uri": "https://localhost:8080/"
        },
        "id": "6a9da88c",
        "outputId": "bb64b4d2-7864-472a-df87-3c8fbb13c3de"
      },
      "outputs": [
        {
          "data": {
            "text/plain": [
              "count                                                  5171\n",
              "unique                                                 4993\n",
              "top       Subject: calpine daily gas nomination\\r\\n>\\r\\n...\n",
              "freq                                                     20\n",
              "Name: text, dtype: object"
            ]
          },
          "execution_count": 7,
          "metadata": {},
          "output_type": "execute_result"
        }
      ],
      "source": [
        "df['text'].describe()"
      ],
      "id": "6a9da88c"
    },
    {
      "cell_type": "code",
      "execution_count": null,
      "metadata": {
        "colab": {
          "base_uri": "https://localhost:8080/",
          "height": 269
        },
        "id": "0d8f0849",
        "outputId": "bede9ec5-4119-4544-b489-c42e8e2e180b"
      },
      "outputs": [
        {
          "data": {
            "image/png": "[encoded data removed]",
            "text/plain": [
              "<Figure size 432x288 with 1 Axes>"
            ]
          },
          "metadata": {},
          "output_type": "display_data"
        }
      ],
      "source": [
        "import matplotlib.pyplot as plt\n",
        "%matplotlib inline\n",
        "\n",
        "plt.xscale('log')\n",
        "bins = 1.5**(np.arange(0,15))\n",
        "plt.hist(df[df['label']=='ham']['label_num'],bins=bins,alpha=0.8)\n",
        "plt.hist(df[df['label']=='spam']['label_num'],bins=bins,alpha=0.8)\n",
        "plt.legend(('ham','spam'))\n",
        "plt.show()"
      ],
      "id": "0d8f0849"
    },
    {
      "cell_type": "code",
      "execution_count": null,
      "metadata": {
        "id": "5cbd384b"
      },
      "outputs": [],
      "source": [
        "X = df[['text','label_num']]\n",
        "y = df['label']"
      ],
      "id": "5cbd384b"
    },
    {
      "cell_type": "code",
      "execution_count": null,
      "metadata": {
        "colab": {
          "base_uri": "https://localhost:8080/"
        },
        "id": "6042a742",
        "outputId": "a477712c-6932-43cc-8c35-65c104611347"
      },
      "outputs": [
        {
          "name": "stdout",
          "output_type": "stream",
          "text": [
            "Training Data Shape: (3464, 2)\n",
            "Testing Data Shape:  (1707, 2)\n"
          ]
        }
      ],
      "source": [
        "from sklearn.model_selection import train_test_split\n",
        "\n",
        "X_train, X_test, y_train, y_test = train_test_split(X, y, test_size=0.33, random_state=42)\n",
        "\n",
        "print('Training Data Shape:', X_train.shape)\n",
        "print('Testing Data Shape: ', X_test.shape)"
      ],
      "id": "6042a742"
    },
    {
      "cell_type": "code",
      "execution_count": null,
      "metadata": {
        "colab": {
          "base_uri": "https://localhost:8080/"
        },
        "id": "af0e0fed",
        "outputId": "1e212407-3382-49f3-d48d-f26f0ff869f9"
      },
      "outputs": [
        {
          "data": {
            "text/plain": [
              "text                                                                                                                                                                                                                                                                                                                                                                                                                                                                                                                                                                                                                                                                                                                                                                                                                                                                                                                                                                                                            label_num\n",
              "Subject: calpine daily gas nomination\\r\\n>\\r\\nricky a . archer\\r\\nfuel supply\\r\\n700 louisiana , suite 2700\\r\\nhouston , texas 77002\\r\\n713 - 830 - 8659 direct\\r\\n713 - 830 - 8722 fax\\r\\n- calpine daily gas nomination 1 . doc                                                                                                                                                                                                                                                                                                                                                                                                                                                                                                                                                                                                                                                                                                                                                                               0            14\n",
              "Subject: \\r\\n                                                                                                                                                                                                                                                                                                                                                                                                                                                                                                                                                                                                                                                                                                                                                                                                                                                                                                                                                                                                   1            13\n",
              "Subject: we ' ve found a school for you !\\r\\n                                                                                                                                                                                                                                                                                                                                                                                                                                                                                                                                                                                                                                                                                                                                                                                                                                                                                                                                                                   1             3\n",
              "Subject: tenaska iv 10 / 00\\r\\nwe have actuals . the larger of the two volumes is 1 , 395 , 000 , which is\\r\\n45 , 000 / day , so the demand rate in deal 514353 is fine . i am having a\\r\\nproblem , though , with the way it is coming to settlements . it is showing up\\r\\nwith a jan 2003 delivery date . i think the demand fee needs to be on 10 / 1\\r\\nonly . right now , it is on a line with a date of 10 / 1 / 00 to 12 / 31 / 36 . i\\r\\nthink this is confusing the system some how . also , we still need the\\r\\npurchase deal for tenaska iv . it should be for a demand fee of $ 2 , 571 , 135 . 73\\r\\nbooked to the cleburne desk . we actually owe $ 1 , 798 , 389 . 73 , but i need to\\r\\nnet the tenaska iv sales with the purchase to clear those receivables . james\\r\\nis calling me every day asking for an update . do you know when we will be\\r\\nable to get this in the system ? i have attached my spreadsheet so you can\\r\\nsee the numbers .\\r\\nmegan                              0             2\n",
              "Subject: calpine daily gas nomination\\r\\n- calpine daily gas nomination 1 . doc                                                                                                                                                                                                                                                                                                                                                                                                                                                                                                                                                                                                                                                                                                                                                                                                                                                                                                                                 0             2\n",
              "                                                                                                                                                                                                                                                                                                                                                                                                                                                                                                                                                                                                                                                                                                                                                                                                                                                                                                                                                                                                                             ..\n",
              "Subject: get meds sent discretely directly to you\\r\\nhi ,\\r\\ngrade a offshore prescriptions express shipped directly to your residence .\\r\\nciaiis , vlagra , valium many more available .\\r\\nsave up to 70 % . worldwide deliveries in discreet packaging . no prior\\r\\nscript required .\\r\\nyou can purchase at :\\r\\n                                                                                                                                                                                                                                                                                                                                                                                                                                                                                                                                                                                                                                                                                         1             1\n",
              "Subject: get nominated for a degree\\r\\nclick\\r\\nhere for a prestigious non accredited degrees \" no one is turned down \" .\\r\\nread here for more info .\\r\\nawards can also be granted for the\\r\\npurpose of honoring those who exemplify the\\r\\nideals of higher education through their\\r\\nsignificant achievements and contributions to\\r\\nbusiness and society in their respective geographic\\r\\narea . for a doctorate or masters of\\r\\nbusiness administration , a previous\\r\\nuniversity education may\\r\\nnot be required for persons with extensive\\r\\nexperience in any field related to civil service ,\\r\\nbusiness administration , management ,\\r\\nfinance , healthcare , military , etc .\\r\\nact today . no one is turned\\r\\ndown . your confidentiality\\r\\nassured . the more degrees you have the better your chances and\\r\\nprospects in life . that is the way life is . it is a competitive\\r\\nworld . don ' t delay to contact us today .\\r\\nto\\r\\nstop future solicitation visit\\r\\nhere\\r\\n  1             1\n",
              "Subject: get real results with real v / agra 52 a\\r\\nmake her want you more then ever\\r\\nsuper v \\ \\ agra will keep you rokk hard all weekend .\\r\\n- do what you know she will love ! - be king of the bedroom - we have the cheapest prices available . - no pre / scrip / tion req / uired !\\r\\nhe came with his father and some friends . they worked hard , and built a tree house in me ! i was sad . this is the end , i thought as they mixed me into a pulp . i was a tree again ! once again , i stood tall and proud on my hill . one day , the next summer , i saw the boy again ! i realized i was a special tree . they cut me into smaller sheets of paper . she read me over and over . one day she had a picnic on a hill . my hill . i saw my own stump . he came with his father and some friends . they worked hard , and built a tree house in me !\\r\\n                                                                                                                                     1             1\n",
              "Subject: get that new car 8434\\r\\npeople nowthe weather or climate in any particular environment can change and affect what people eat and how much of it they are able to eat .                                                                                                                                                                                                                                                                                                                                                                                                                                                                                                                                                                                                                                                                                                                                                                                                                                1             1\n",
              "Subject: yvette ooto\\r\\ni will be on vacation monday , april 17 th thru friday , april 21 st . elizabeth\\r\\nsoto will be backing me up on monday and ragayle pellum will back me up the\\r\\nremainder of the week .\\r\\nif you have any questions regarding brenda ' s calendar , need to make changes ,\\r\\nor need to set up a meeting with her please contact chantelle villanueva at\\r\\next 3 . 6279 .\\r\\nif you need assistance with anyone else ' s calendar who i support please\\r\\ncontact ragayle .                                                                                                                                                                                                                                                                                                                                                                                                                                                                                                       0             1\n",
              "Length: 3373, dtype: int64"
            ]
          },
          "execution_count": 11,
          "metadata": {},
          "output_type": "execute_result"
        }
      ],
      "source": [
        "X_train.value_counts()"
      ],
      "id": "af0e0fed"
    },
    {
      "cell_type": "code",
      "execution_count": null,
      "metadata": {
        "colab": {
          "base_uri": "https://localhost:8080/"
        },
        "id": "519f5540",
        "outputId": "a14bebdc-dd1c-4d1c-e974-f694bf01017a"
      },
      "outputs": [
        {
          "data": {
            "text/plain": [
              "ham     2426\n",
              "spam    1038\n",
              "Name: label, dtype: int64"
            ]
          },
          "execution_count": 12,
          "metadata": {},
          "output_type": "execute_result"
        }
      ],
      "source": [
        "y_train.value_counts()"
      ],
      "id": "519f5540"
    },
    {
      "cell_type": "code",
      "execution_count": null,
      "metadata": {
        "colab": {
          "base_uri": "https://localhost:8080/"
        },
        "id": "7b0abeef",
        "outputId": "d2318f08-3ff9-4808-ab8f-09ba4e284915"
      },
      "outputs": [
        {
          "data": {
            "text/plain": [
              "ham     1246\n",
              "spam     461\n",
              "Name: label, dtype: int64"
            ]
          },
          "execution_count": 13,
          "metadata": {},
          "output_type": "execute_result"
        }
      ],
      "source": [
        "y_test.value_counts()"
      ],
      "id": "7b0abeef"
    },
    {
      "cell_type": "code",
      "execution_count": null,
      "metadata": {
        "id": "64c12787"
      },
      "outputs": [],
      "source": [
        "from sklearn.model_selection import train_test_split\n",
        "\n",
        "X = df['text']\n",
        "y = df['label']\n",
        "\n",
        "X_train, X_test, y_train, y_test = train_test_split(X, y, test_size=0.33, random_state=42)"
      ],
      "id": "64c12787"
    },
    {
      "cell_type": "code",
      "execution_count": null,
      "metadata": {
        "colab": {
          "base_uri": "https://localhost:8080/"
        },
        "id": "47f76c53",
        "outputId": "10d9fed6-4661-48fd-bdad-3c13d70cd096"
      },
      "outputs": [
        {
          "data": {
            "text/plain": [
              "ham     2426\n",
              "spam    1038\n",
              "Name: label, dtype: int64"
            ]
          },
          "execution_count": 15,
          "metadata": {},
          "output_type": "execute_result"
        }
      ],
      "source": [
        "y_train.value_counts()"
      ],
      "id": "47f76c53"
    },
    {
      "cell_type": "code",
      "execution_count": null,
      "metadata": {
        "colab": {
          "base_uri": "https://localhost:8080/"
        },
        "id": "60a25c9c",
        "outputId": "89cb28c7-1540-4d17-f829-77f5c6002347"
      },
      "outputs": [
        {
          "data": {
            "text/plain": [
              "ham     1246\n",
              "spam     461\n",
              "Name: label, dtype: int64"
            ]
          },
          "execution_count": 16,
          "metadata": {},
          "output_type": "execute_result"
        }
      ],
      "source": [
        "y_test.value_counts()"
      ],
      "id": "60a25c9c"
    },
    {
      "cell_type": "code",
      "execution_count": null,
      "metadata": {
        "colab": {
          "base_uri": "https://localhost:8080/"
        },
        "id": "29cf7e37",
        "outputId": "e16065f8-44ac-46ac-a0f4-8c06912ff086"
      },
      "outputs": [
        {
          "data": {
            "text/plain": [
              "(3464, 40867)"
            ]
          },
          "execution_count": 17,
          "metadata": {},
          "output_type": "execute_result"
        }
      ],
      "source": [
        "from sklearn.feature_extraction.text import CountVectorizer\n",
        "count_vect = CountVectorizer()\n",
        "\n",
        "X_train_counts = count_vect.fit_transform(X_train)\n",
        "X_train_counts.shape"
      ],
      "id": "29cf7e37"
    },
    {
      "cell_type": "code",
      "execution_count": null,
      "metadata": {
        "colab": {
          "base_uri": "https://localhost:8080/"
        },
        "id": "ed6d53d1",
        "outputId": "e4c42832-c24d-4e5d-e537-ebf95056ccd9"
      },
      "outputs": [
        {
          "data": {
            "text/plain": [
              "(3464, 40867)"
            ]
          },
          "execution_count": 18,
          "metadata": {},
          "output_type": "execute_result"
        }
      ],
      "source": [
        "from sklearn.feature_extraction.text import TfidfTransformer\n",
        "tfidf_transformer = TfidfTransformer()\n",
        "\n",
        "X_train_tfidf = tfidf_transformer.fit_transform(X_train_counts)\n",
        "X_train_tfidf.shape"
      ],
      "id": "ed6d53d1"
    },
    {
      "cell_type": "code",
      "execution_count": null,
      "metadata": {
        "colab": {
          "base_uri": "https://localhost:8080/"
        },
        "id": "9e419ee3",
        "outputId": "9f63fe24-686c-4b55-e59e-04d16b6520c5"
      },
      "outputs": [
        {
          "data": {
            "text/plain": [
              "0         (0, 40508)\\t0.06725429833475978\\n  (0, 40498...\n",
              "1         (0, 40498)\\t0.043271543412021225\\n  (0, 3992...\n",
              "2         (0, 40778)\\t0.0931152091462377\\n  (0, 40498)...\n",
              "3         (0, 39613)\\t0.10519125751216014\\n  (0, 39482...\n",
              "4         (0, 39613)\\t0.07572361287684203\\n  (0, 38353...\n",
              "                              ...                        \n",
              "3459      (0, 40508)\\t0.009284539014541463\\n  (0, 4049...\n",
              "3460      (0, 40498)\\t0.05025820691232805\\n  (0, 39725...\n",
              "3461      (0, 40661)\\t0.08018706376722393\\n  (0, 40508...\n",
              "3462      (0, 39354)\\t0.16847612601659523\\n  (0, 36442...\n",
              "3463      (0, 40498)\\t0.05257172124655783\\n  (0, 40404...\n",
              "Name: 0, Length: 3464, dtype: object"
            ]
          },
          "execution_count": 19,
          "metadata": {},
          "output_type": "execute_result"
        }
      ],
      "source": [
        "pd.DataFrame(X_train_tfidf)[0]"
      ],
      "id": "9e419ee3"
    },
    {
      "cell_type": "code",
      "execution_count": null,
      "metadata": {
        "colab": {
          "base_uri": "https://localhost:8080/"
        },
        "id": "e1cfe673",
        "outputId": "d65b3d13-b3f5-4e7f-b7e8-cccea61231f9"
      },
      "outputs": [
        {
          "data": {
            "text/plain": [
              "(3464, 40867)"
            ]
          },
          "execution_count": 20,
          "metadata": {},
          "output_type": "execute_result"
        }
      ],
      "source": [
        "from sklearn.feature_extraction.text import TfidfVectorizer\n",
        "vectorizer = TfidfVectorizer()\n",
        "\n",
        "X_train_tfidf = vectorizer.fit_transform(X_train) # remember to use the original X_train set\n",
        "X_train_tfidf.shape"
      ],
      "id": "e1cfe673"
    },
    {
      "cell_type": "code",
      "execution_count": null,
      "metadata": {
        "colab": {
          "base_uri": "https://localhost:8080/"
        },
        "id": "8f7af78e",
        "outputId": "1fa1d362-e43e-4140-b4c9-56a69bf96185"
      },
      "outputs": [
        {
          "data": {
            "text/plain": [
              "LinearSVC()"
            ]
          },
          "execution_count": 24,
          "metadata": {},
          "output_type": "execute_result"
        }
      ],
      "source": [
        "from sklearn.svm import LinearSVC\n",
        "clf = LinearSVC()\n",
        "clf.fit(X_train_tfidf,y_train)"
      ],
      "id": "8f7af78e"
    },
    {
      "cell_type": "code",
      "execution_count": null,
      "metadata": {
        "id": "143fa892"
      },
      "outputs": [],
      "source": [
        "from sklearn.pipeline import Pipeline\n",
        "text_clf = Pipeline([('tfidf', TfidfVectorizer()),\n",
        "                     ('clf', LinearSVC()),])\n",
        "\n",
        "\n",
        "text_clf.fit(X_train, y_train)\n",
        "\n",
        "\n",
        "predictions = text_clf.predict(X_test)"
      ],
      "id": "143fa892"
    },
    {
      "cell_type": "code",
      "execution_count": null,
      "metadata": {
        "colab": {
          "base_uri": "https://localhost:8080/"
        },
        "id": "0311a5e1",
        "outputId": "1d250c09-13fc-4b39-f76b-fb0d0f34e3c4"
      },
      "outputs": [
        {
          "name": "stdout",
          "output_type": "stream",
          "text": [
            "[[1231   15]\n",
            " [   5  456]]\n"
          ]
        }
      ],
      "source": [
        "from sklearn import metrics\n",
        "print(metrics.confusion_matrix(y_test,predictions))"
      ],
      "id": "0311a5e1"
    },
    {
      "cell_type": "code",
      "execution_count": null,
      "metadata": {
        "colab": {
          "base_uri": "https://localhost:8080/"
        },
        "id": "81cf2328",
        "outputId": "9e073d23-79f7-467b-ce27-2917900ee51f"
      },
      "outputs": [
        {
          "name": "stdout",
          "output_type": "stream",
          "text": [
            "              precision    recall  f1-score   support\n",
            "\n",
            "         ham       1.00      0.99      0.99      1246\n",
            "        spam       0.97      0.99      0.98       461\n",
            "\n",
            "    accuracy                           0.99      1707\n",
            "   macro avg       0.98      0.99      0.99      1707\n",
            "weighted avg       0.99      0.99      0.99      1707\n",
            "\n"
          ]
        }
      ],
      "source": [
        "print(metrics.classification_report(y_test,predictions))"
      ],
      "id": "81cf2328"
    },
    {
      "cell_type": "code",
      "execution_count": null,
      "metadata": {
        "colab": {
          "base_uri": "https://localhost:8080/"
        },
        "id": "fceae2bb",
        "outputId": "8b4942c8-aaa9-4a68-84e4-d77b7b0b016f"
      },
      "outputs": [
        {
          "name": "stdout",
          "output_type": "stream",
          "text": [
            "0.9882835383714118\n"
          ]
        }
      ],
      "source": [
        "print(metrics.accuracy_score(y_test,predictions))"
      ],
      "id": "fceae2bb"
    },
    {
      "cell_type": "code",
      "execution_count": null,
      "metadata": {
        "colab": {
          "base_uri": "https://localhost:8080/",
          "height": 36
        },
        "id": "ad715dcb",
        "outputId": "619b29ea-280e-490e-b130-1437c39b03cc"
      },
      "outputs": [
        {
          "data": {
            "application/vnd.google.colaboratory.intrinsic+json": {
              "type": "string"
            },
            "text/plain": [
              "'spam'"
            ]
          },
          "execution_count": 29,
          "metadata": {},
          "output_type": "execute_result"
        }
      ],
      "source": [
        "text_clf.predict(['Hi How are you , i am alaa from Egypt? '])[0]"
      ],
      "id": "ad715dcb"
    },
    {
      "cell_type": "code",
      "execution_count": null,
      "metadata": {
        "colab": {
          "base_uri": "https://localhost:8080/",
          "height": 36
        },
        "id": "93cb2383",
        "outputId": "7a84fb7b-cb58-4cbe-b98f-a0089ff604a2"
      },
      "outputs": [
        {
          "data": {
            "application/vnd.google.colaboratory.intrinsic+json": {
              "type": "string"
            },
            "text/plain": [
              "'spam'"
            ]
          },
          "execution_count": 30,
          "metadata": {},
          "output_type": "execute_result"
        }
      ],
      "source": [
        "text_clf.predict(['Congratulations , you won @ new stage '])[0]"
      ],
      "id": "93cb2383"
    },
    {
      "cell_type": "code",
      "execution_count": null,
      "metadata": {
        "colab": {
          "base_uri": "https://localhost:8080/",
          "height": 36
        },
        "id": "14d1f1e8",
        "outputId": "f4a6adb6-c2ee-4784-e161-b719af7101bb"
      },
      "outputs": [
        {
          "data": {
            "application/vnd.google.colaboratory.intrinsic+json": {
              "type": "string"
            },
            "text/plain": [
              "'spam'"
            ]
          },
          "execution_count": 31,
          "metadata": {},
          "output_type": "execute_result"
        }
      ],
      "source": [
        "text_clf.predict(['Subject: hi in April 4 , 2022 '])[0]"
      ],
      "id": "14d1f1e8"
    },
    {
      "cell_type": "markdown",
      "metadata": {
        "id": "m6Z4P-fsHfLb"
      },
      "source": [
        "**Let's check with some Real time spam mails**"
      ],
      "id": "m6Z4P-fsHfLb"
    },
    {
      "cell_type": "markdown",
      "metadata": {
        "id": "SqeBZva_IRMm"
      },
      "source": [
        "![image.png](data:image/png;base64,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)"
      ],
      "id": "SqeBZva_IRMm"
    },
    {
      "cell_type": "code",
      "execution_count": null,
      "metadata": {
        "colab": {
          "base_uri": "https://localhost:8080/",
          "height": 36
        },
        "id": "YrZ-6oGrH0lR",
        "outputId": "e4eac8a5-522c-4f34-815b-d215b2858e5a"
      },
      "outputs": [
        {
          "data": {
            "application/vnd.google.colaboratory.intrinsic+json": {
              "type": "string"
            },
            "text/plain": [
              "'spam'"
            ]
          },
          "execution_count": 32,
          "metadata": {},
          "output_type": "execute_result"
        }
      ],
      "source": [
        "text_clf.predict([' Are you still searching Internship for your college curriculum, We are launching Internship Program for those who didnt get Internship due to lack of opportunities. If you interested to do internship go through below details.'])[0]"
      ],
      "id": "YrZ-6oGrH0lR"
    }
  ],
  "metadata": {
    "accelerator": "GPU",
    "colab": {
      "provenance": []
    },
    "kernelspec": {
      "display_name": "Python 3",
      "language": "python",
      "name": "python3"
    },
    "language_info": {
      "codemirror_mode": {
        "name": "ipython",
        "version": 3
      },
      "file_extension": ".py",
      "mimetype": "text/x-python",
      "name": "python",
      "nbconvert_exporter": "python",
      "pygments_lexer": "ipython3",
      "version": "3.7.12"
    },
    "papermill": {
      "default_parameters": {},
      "duration": 15.694029,
      "end_time": "2022-04-05T12:23:16.994141",
      "environment_variables": {},
      "exception": null,
      "input_path": "__notebook__.ipynb",
      "output_path": "__notebook__.ipynb",
      "parameters": {},
      "start_time": "2022-04-05T12:23:01.300112",
      "version": "2.3.3"
    }
  },
  "nbformat": 4,
  "nbformat_minor": 5
}